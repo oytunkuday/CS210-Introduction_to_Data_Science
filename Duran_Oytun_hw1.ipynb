{
  "nbformat": 4,
  "nbformat_minor": 0,
  "metadata": {
    "colab": {
      "provenance": []
    },
    "kernelspec": {
      "display_name": "Python 3",
      "name": "python3"
    }
  },
  "cells": [
    {
      "cell_type": "markdown",
      "metadata": {
        "id": "JD9gUM7WW8iT"
      },
      "source": [
        "# Homework 1 - Practicing Python\n",
        "\n",
        "\n",
        "*In the first homework, you are going to work on a set of Python exercises.*\n",
        "\n",
        "**Submission Instructions**\n",
        "\n",
        "---\n",
        "It is important that you follow the submission instructions. \n",
        "1. Copy this assignment notebook to your Drive. <font color = 'red'> `File` --> `Save a copy in Drive`</font>. Rename it as <font color = 'green'>`Lastname_Firstname_hw1`</font>.\n",
        "\n",
        "2. Write your solutions in the cells  marked <font color = 'green'>`# your code`</font>.\n",
        "\n",
        "3. Do not delete your outputs. They are essential for the grading. Make sure that cells containing your solutions are executed, and the results are displayed on the notebook.\n",
        "\n",
        "4. When you're done please submit your solutions as an <font color=\"red\">`.ipynb`</font> file. To do so:\n",
        "\n",
        "\n",
        "  a. Click on <font color=\"red\">`File`</font>  at the top left on the Colab screen, then click on <font color = 'red'>`Download .ipynb`</font>.\n",
        "\n",
        "  b. Then submit the downloaded <font color=\"red\">`.ipynb`</font> version of your work on SUCourse.\n",
        "\n",
        "\n",
        "For any question, you may send an email to the TAs and LAs.\n",
        "\n",
        "---\n",
        "\n",
        "**Important Note:**   \n",
        "In this homework, you do not need to use any libraries than the built-in ones. Hence, you are not allowed to use any libraries, other than the [`pprint`](https://docs.python.org/3/library/pprint.html) library to produce better looking outputs. If you have doubt on what to use what not to use please ask your question in the SuCourse Homework Q&A forum."
      ]
    },
    {
      "cell_type": "markdown",
      "metadata": {
        "id": "rYfw-eaiBOBJ"
      },
      "source": [
        "## 15 points - Q1: Find the Office Hour, Given the TA\n",
        "\n",
        "In the cell below, you have three lists containing the TA names and their day of office hour in the same order.\n",
        "\n",
        "Here, your goal is to write a fuction named `TA_day` that will return the day and hour of a particular TA. E.g.,\n",
        "\n",
        "```py\n",
        ">>> TA_day(TA_name='Ozgur Can Seckin')\n",
        "Tuesday, 17:40-18:30\n",
        "```\n",
        "\n",
        "After defining your function as such, please find the day and hour for **Mutlu Soruklu**"
      ]
    },
    {
      "cell_type": "code",
      "metadata": {
        "id": "_RCO6nIyEpv1"
      },
      "source": [
        "TA_names = ['Ege Alpay', 'Hasan Alp Boz', 'Mutlu Soruklu', 'Ozgur Can Seckin']\n",
        "office_days = ['Friday', 'Tuesday', 'Monday', 'Tuesday']\n",
        "office_hours = ['18:40 - 19:30', '9:40-10:30', '17:40 - 18:30', '17:40 - 18:30']"
      ],
      "execution_count": null,
      "outputs": []
    },
    {
      "cell_type": "code",
      "metadata": {
        "colab": {
          "base_uri": "https://localhost:8080/",
          "height": 35
        },
        "id": "VsigiNj3FzgF",
        "outputId": "5215ef44-f776-45f5-d74c-28d3155a763b"
      },
      "source": [
        "# your code\n",
        "# your code\n",
        "def TA_day(TA_name):\n",
        "  index = TA_names.index(TA_name)\n",
        "  return office_days[index]+\", \"+ office_hours[index]\n",
        "  #the example answer upside shows like it is a print but question says return so i returned.\n",
        "TA_day(TA_name='Mutlu Soruklu')\n"
      ],
      "execution_count": null,
      "outputs": [
        {
          "output_type": "execute_result",
          "data": {
            "application/vnd.google.colaboratory.intrinsic+json": {
              "type": "string"
            },
            "text/plain": [
              "'Monday, 17:40 - 18:30'"
            ]
          },
          "metadata": {},
          "execution_count": 31
        }
      ]
    },
    {
      "cell_type": "markdown",
      "metadata": {
        "id": "DwskSV1dAeoR"
      },
      "source": [
        "## 30 points - Q2: Inflation Rates\n",
        "\n",
        "Inflation rates measured by consumer price index for 38 distinct countries and OECD average were taken from:\n",
        "https://data.oecd.org/price/inflation-cpi.htm\n",
        "\n",
        "Each line stores the country name, year and related inflation rate, seperated by a **semicolon**.\n",
        "\n",
        "In total, we have 195 lines where the inflation rates are given for years between 2016 and 2020.\n",
        "\n",
        "\n",
        "<img src=\"https://i.ibb.co/bBzypPS/Q2-OECD.png\"></img>\n",
        "\n",
        "*Do not forget to add the shared file and then mount to your drive. Otherwise, you won't be able to read the file. If you do not know how, please go back to Week 1 videos.*\n",
        "\n",
        "**Attention: You may want to transform the string to numbers by using float() function**"
      ]
    },
    {
      "cell_type": "markdown",
      "metadata": {
        "id": "EJdIEenmj6W_"
      },
      "source": [
        "### 15 points - **Part A**\n",
        "In this part, you should - by using the inflation_data.csv file under assignment folder:\n",
        "1. Find the **mean inflation rates** for Turkey and Germany (denoted as TUR and DEU in the data, respectively) between years 2016 and 2020 and print the results.\n",
        "2. Calculate the **difference between means** and print the result.\n",
        "\n",
        "![](https://i.ibb.co/L0JTk8V/Q2-OECD.png)"
      ]
    },
    {
      "cell_type": "code",
      "metadata": {
        "colab": {
          "base_uri": "https://localhost:8080/"
        },
        "id": "tbaryKClTz5Z",
        "outputId": "2c4f0966-074b-436a-c01a-db797e206211"
      },
      "source": [
        "from google.colab import drive\n",
        "drive.mount(\"./drive/\", force_remount=True)"
      ],
      "execution_count": null,
      "outputs": [
        {
          "name": "stdout",
          "output_type": "stream",
          "text": [
            "Mounted at ./drive/\n"
          ]
        }
      ]
    },
    {
      "cell_type": "code",
      "metadata": {
        "colab": {
          "base_uri": "https://localhost:8080/"
        },
        "id": "NnRDeA3_SPi0",
        "outputId": "3b1ab9db-562f-4b88-9142-706f115d455c"
      },
      "source": [
        "# your code\n",
        "from os.path import join\n",
        "\n",
        "path_prefix = \"./drive/MyDrive/Colab Notebooks\"\n",
        "\n",
        "fname = \"inflation_data.csv\"\n",
        "mylist = []\n",
        "\n",
        "with open(join(path_prefix, fname), \"r\") as f:\n",
        "  mylist = f.readlines()\n",
        "\n",
        "tursum=0.0\n",
        "turcount=0\n",
        "deusum=0.0\n",
        "deucount=0\n",
        "\n",
        "for line in mylist:\n",
        "  line = line.strip()\n",
        "  line = line.split(\";\")\n",
        "  name = line[0]\n",
        "  year = int(line[1])\n",
        "  rate = line[2].replace(\",\", '.')\n",
        "  rate = float(rate)\n",
        "  if name==\"DEU\" and 2016<=year and year<=2020:\n",
        "    deusum+=rate\n",
        "    deucount=deucount+1\n",
        "  elif name==\"TUR\" and 2016<=year and year<=2020:\n",
        "    tursum+=rate\n",
        "    turcount=turcount+1\n",
        "\n",
        "turmean=tursum/turcount\n",
        "deumean=deusum/deucount\n",
        "\n",
        "print(\"mean inflation rates for Turkey is\",turmean,\" and for Germany is \",deumean)\n",
        "\n",
        "if turmean>deumean:\n",
        "  print(\"mean inflation rates for Turkey is \",turmean-deumean,\" higher than Germany\")\n",
        "elif turmean<deumean:\n",
        "  print(\"mean inflation rates for Germany is \",deumean-turmean,\" higher than Turkey\")\n",
        "else:\n",
        "  print(\"mean inflation rates for Germany is equal with Turkey\")"
      ],
      "execution_count": null,
      "outputs": [
        {
          "output_type": "stream",
          "name": "stdout",
          "text": [
            "mean inflation rates for Turkey is 12.5415368  and for Germany is  1.1371541\n",
            "mean inflation rates for Turkey is  11.4043827  higher than Germany\n"
          ]
        }
      ]
    },
    {
      "cell_type": "markdown",
      "metadata": {
        "id": "pIBUWMoXSSwr"
      },
      "source": [
        "### 15 points - **Part B**\n",
        "\n",
        "Find the country with the minimum mean inflation rate (note that it might be negative!)\n",
        "\n",
        "![](https://i.ibb.co/hBsTWvs/Q2-OECD-2.png)"
      ]
    },
    {
      "cell_type": "code",
      "metadata": {
        "colab": {
          "base_uri": "https://localhost:8080/"
        },
        "id": "laBFy2HkSXpC",
        "outputId": "cd03a731-b2fa-4025-eb75-f17ebd37e1fa"
      },
      "source": [
        "# your code\n",
        "# your code\n",
        "from os.path import join\n",
        "\n",
        "path_prefix = \"./drive/MyDrive/Colab Notebooks\"\n",
        "\n",
        "fname = \"inflation_data.csv\"\n",
        "mylist = []\n",
        "\n",
        "with open(join(path_prefix, fname), \"r\") as f:\n",
        "  mylist = f.readlines()\n",
        "\n",
        "countdictionary={}\n",
        "ratesumdictionary={}\n",
        "meandictionary={}\n",
        "\n",
        "for line in mylist:\n",
        "  line = line.strip()\n",
        "  line = line.split(\";\")\n",
        "  name = line[0]\n",
        "  year = int(line[1])\n",
        "  rate = line[2].replace(\",\", '.')\n",
        "  rate = float(rate)\n",
        "  if name in countdictionary:\n",
        "    countdictionary[name]=countdictionary[name]+1\n",
        "    ratesumdictionary[name]=ratesumdictionary[name]+rate\n",
        "  else:\n",
        "    countdictionary[name]=1\n",
        "    ratesumdictionary[name]=rate\n",
        "\n",
        "for keys in ratesumdictionary:\n",
        "  meandictionary[keys]=ratesumdictionary[keys]/countdictionary[keys]\n",
        "\n",
        "print(min(meandictionary, key=meandictionary.get),\" is the country with the  minimum mean inflation rate:\", meandictionary[min(meandictionary, key=meandictionary.get)])"
      ],
      "execution_count": null,
      "outputs": [
        {
          "output_type": "stream",
          "name": "stdout",
          "text": [
            "GRC  is the country with the  minimum mean inflation rate: -0.014751480000000016\n"
          ]
        }
      ]
    },
    {
      "cell_type": "markdown",
      "metadata": {
        "id": "srIzF7eJYUAW"
      },
      "source": [
        "## 25 points - Q3: Transposing a List of Lists\n",
        "\n",
        "List/array reshaping is one of the most fundamental operations in data manipulation. In the figure below, you see a 4x3 dimensional list of lists (a list that contains lists) named `arr` that has integers from 1 to 12. We can take the transpose of this 4x3 list and transform it into a 3x4 list. \n",
        "\n",
        "![](https://i.ibb.co/K7CXTZX/Q3-transposed.png)\n",
        "\n",
        "By referencing the figure above, write a function named `transpose` which will take the transpose of the desired matrix. At the end, it should return the resulting matrix.\n",
        "\n",
        "```py\n",
        ">>> arr = [[1, 2, 3, 4], [5, 6, 7, 8], [9, 10, 11, 12]]\n",
        ">>> transpose(arr)\n",
        "[[1, 5, 9], [2, 6, 10], [3, 7, 11], [4, 8, 12]]\n",
        "```\n",
        "\n",
        "If the given list of lists does not represent a proper matrix (e.g., [[1,2], [3,4,5]] then, it should return \"Not a proper matrix\"\n",
        "\n",
        "```py\n",
        ">>> arr = [[1, 2, 3], [5, 6]]\n",
        ">>> transpose(arr)\n",
        "\"Not a proper matrix\"\n",
        "```"
      ]
    },
    {
      "cell_type": "code",
      "metadata": {
        "colab": {
          "base_uri": "https://localhost:8080/"
        },
        "id": "iZgKbmvbZM61",
        "outputId": "d2ae60de-888f-49c0-a7c1-3acf0ad0819f"
      },
      "source": [
        "arr = [[1, 2, 3, 4], [5, 6, 7, 8], [9, 10, 11, 12]]\n",
        "\n",
        "# your code\n",
        "def transpose(arr):\n",
        "  length=len(arr[0])\n",
        "  for matrix in range(len(arr)):\n",
        "    if len(arr[matrix])!=length:\n",
        "      return \"Not a proper matrix\"\n",
        "  newmatrix=[]\n",
        "  for minilist in range(len(arr[0])):\n",
        "    blabla = []\n",
        "    for minilist2 in range(len(arr)):\n",
        "      blabla.append(0)\n",
        "    newmatrix.append(blabla)\n",
        "  for a in range(len(arr)):\n",
        "   for b in range(len(arr[0])):\n",
        "     newmatrix[b][a] = arr[a][b]\n",
        "\n",
        "     \n",
        "  return newmatrix \n",
        "\n",
        "transpose(arr) "
      ],
      "execution_count": null,
      "outputs": [
        {
          "output_type": "execute_result",
          "data": {
            "text/plain": [
              "[[1, 5, 9], [2, 6, 10], [3, 7, 11], [4, 8, 12]]"
            ]
          },
          "metadata": {},
          "execution_count": 27
        }
      ]
    },
    {
      "cell_type": "markdown",
      "metadata": {
        "id": "_0FzjI4Li18J"
      },
      "source": [
        "## 30 points - Q4: Most Frequent Bigram in a File\n",
        "\n",
        "`A pair of consecutive written words is called a bigram. For instance, if we were to find the bigrams in the sentence \"The quick brown fox jumps over the lazy dog.\", we would get [\"The quick\", \"quick brown\", \"brown fox\", ... \"the lazy\", \"lazy dog.\"]`\n",
        "\n",
        "In the assignment folder, you have a file named `best_song.txt` which stores the lyrics to the best song ever written by anyone:\n",
        "https://i.ibb.co/cb4B8sy/best-song.jpg\n",
        "\n",
        "Write a function named `most_used_bigram` which will take a file name as its single parameter and then reads and returns the **most frequently used bigram** and **how many times it has occurred** in the text.\n",
        "\n",
        "```py\n",
        ">>> most_used, times_used = most_used_bigram(\"best_song.txt\")\n",
        "```\n",
        "\n",
        "*Do not forget to add the shared file and then mount to your drive. Otherwise, you won't be able to read the file.*"
      ]
    },
    {
      "cell_type": "code",
      "metadata": {
        "colab": {
          "base_uri": "https://localhost:8080/"
        },
        "id": "DEQOU3viZAfj",
        "outputId": "cb0bbe47-10a0-419f-adba-0bbe1bb9ce66"
      },
      "source": [
        "# Your code\n",
        "\n",
        "def most_used_bigram(fname):\n",
        "  from os.path import join\n",
        "\n",
        "  path_prefix = \"./drive/MyDrive/Colab Notebooks\"\n",
        "\n",
        "  wordlist=[]\n",
        "  bigramlist=[]\n",
        "\n",
        "  with open(join(path_prefix, fname), \"r\") as f:\n",
        "    mylist = f.read().splitlines()\n",
        "    wordlist =[]\n",
        "    for sentence in mylist:\n",
        "      templist=sentence.split(\" \")\n",
        "      for word in templist:\n",
        "        wordlist.append(word)\n",
        "    bigramdictionary={}\n",
        "    for a in range(len(wordlist)-1):\n",
        "      tempstring=wordlist[a]+\" \"+wordlist[a+1]\n",
        "      if tempstring in bigramdictionary:\n",
        "        bigramdictionary[tempstring]=bigramdictionary[tempstring]+1\n",
        "      else:\n",
        "        bigramdictionary[tempstring]=1\n",
        "    return max(bigramdictionary, key=bigramdictionary.get), bigramdictionary[max(bigramdictionary, key=bigramdictionary.get)]\n",
        "\n",
        "\n",
        "most_used_bigram(\"best_song.txt\")\n"
      ],
      "execution_count": null,
      "outputs": [
        {
          "output_type": "execute_result",
          "data": {
            "text/plain": [
              "('Never gonna', 36)"
            ]
          },
          "metadata": {},
          "execution_count": 28
        }
      ]
    }
  ]
}