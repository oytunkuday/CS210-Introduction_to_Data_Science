{
  "nbformat": 4,
  "nbformat_minor": 0,
  "metadata": {
    "colab": {
      "provenance": []
    },
    "kernelspec": {
      "name": "python3",
      "display_name": "Python 3"
    }
  },
  "cells": [
    {
      "cell_type": "markdown",
      "metadata": {
        "id": "JD9gUM7WW8iT"
      },
      "source": [
        "# Homework 2 - Data Wrangling\n",
        "\n",
        "\n",
        "*In this homework, you are going to work on a real-world dataset and perform some data transformations. We suggest you start the homework early.*\n",
        "\n",
        "**Submission Instructions**\n",
        "\n",
        "---\n",
        "It is important that you follow the submission instructions. \n",
        "1. Copy this assignment notebook to your Drive. <font color = 'red'> `File` --> `Save a copy in Drive`</font>. Rename it as <font color = 'green'>`Lastname_Firstname_hw2`</font>.\n",
        "\n",
        "2. Write your solutions in the cells  marked as <font color = 'green'>`# your code`</font>.\n",
        "\n",
        "3. **Do not delete your outputs**. They are essential for the grading. Make sure that cells containing your solutions are executed, and the results are displayed on the notebook.\n",
        "\n",
        "4. When you're done please submit your solutions as an <font color=\"red\">`.ipynb`</font> file. To do so:\n",
        "\n",
        "\n",
        "  a. Click on <font color=\"red\">`File`</font>  at the top left on the Colab screen, then click on <font color = 'red'>`Download .ipynb`</font>.\n",
        "\n",
        "  b. Then submit the downloaded <font color=\"red\">`.ipynb`</font> version of your work on SUCourse.\n",
        "\n",
        "\n",
        "For any question, please use the discussion page on Sucourse.\n",
        "\n",
        "---\n",
        "\n",
        "**Important Note: In this homework, you are not allowed to use Pandas.**"
      ]
    },
    {
      "cell_type": "code",
      "metadata": {
        "id": "pNfT6vfYaJdL",
        "colab": {
          "base_uri": "https://localhost:8080/"
        },
        "cellView": "code",
        "outputId": "e9e9b6b4-fe5f-4821-825a-9e4c8af8252f"
      },
      "source": [
        "#@title Varsayılan başlık metni\n",
        "from google.colab import drive\n",
        "drive.mount('./drive', force_remount=True)\n",
        "\n",
        "path_prefix = './drive/My Drive'"
      ],
      "execution_count": null,
      "outputs": [
        {
          "output_type": "stream",
          "name": "stdout",
          "text": [
            "Mounted at ./drive\n"
          ]
        }
      ]
    },
    {
      "cell_type": "code",
      "metadata": {
        "id": "YBCzbwaj4d5O"
      },
      "source": [
        "import numpy as np\n",
        "import matplotlib.pyplot as plt\n",
        "from os.path import join\n",
        "import re\n",
        "\n",
        "%matplotlib inline"
      ],
      "execution_count": null,
      "outputs": []
    },
    {
      "cell_type": "markdown",
      "metadata": {
        "id": "CDbkvQOd-JUt"
      },
      "source": [
        "## Social Distancing in Venezuela\n",
        "\n",
        "Governments across the globe imposed various NPIs (nonpharmaceutical interventions) to limit the mobility of masses and foster social distancing to prevent more infections. In Venezuela, a survey is conducted to collect public opionion on the impacts of COVID-19, which also captures the tendency to adhere to social distancing rules in public. You may read more about the data in detail from the link below.\n",
        "\n",
        "https://data.humdata.org/dataset/open_one_time_covid_impact\n",
        "\n",
        "In this homework, you are going to be working on a small sample from the original data, `venezuela_covid_impact_soc_dist.csv`, that focuses on social distancing, in which the following fields are stored:\n",
        "\n",
        "```\n",
        "'submission_id', 'submission_date', 'gender', 'age', 'education', 'how_likely_to_social_distance_when_out_in_public'\n",
        "```\n",
        "\n",
        "The first five rows of the file can be viewed below:\n",
        "\n",
        "```\n",
        "submission_id,submission_date,gender,age,education,how_likely_to_social_distance_when_out_in_public\n",
        "4621122344845312,2020   12 26  ,Male,26 to 35 years old,University or college degree completed,Very likely\n",
        "5073314990260224,<li>2020 12 10</li>,Male,16 to 25 years old,Some secondary school / high school,Neither likely nor unlikely\n",
        "5703966068572160,  2020----11++++ 19,Female,36 to 45 years old,Some university or college,Very likely\n",
        "5782300156755968,2020   12 07  ,Male,16 to 25 years old,Secondary/high school,Unlikely\n",
        "\n",
        "```\n",
        "\n",
        "** **Do not forget to add the shared file 'venezuela_covid_impact_soc_dist.csv' to your own drive.** **"
      ]
    },
    {
      "cell_type": "markdown",
      "metadata": {
        "id": "6hlYX4icW1U9"
      },
      "source": [
        "### Q1 - Read the Dataset\n",
        "\n",
        "In the provided dataset, entries are separated by commas. Read and store the file as a 2d numpy array in which columns capture the corresponding fields.\n",
        "\n",
        "- Read the given file into a numpy array.\n",
        "- At the end, print the number of rows and columns.\n",
        "\n",
        "```\n",
        "Number of rows: [...], columns: [...]\n",
        "```\n",
        "\n",
        "*Hint: Do not forget to skip the first line (the header).*"
      ]
    },
    {
      "cell_type": "code",
      "metadata": {
        "id": "fApp4vZf7rXv",
        "colab": {
          "base_uri": "https://localhost:8080/"
        },
        "outputId": "9977fbc9-594e-4642-b2f0-a1ea5db973be"
      },
      "source": [
        "# your code\n",
        "from os.path import join\n",
        "\n",
        "path_prefix = \"./drive/MyDrive/Colab Notebooks\"\n",
        "\n",
        "fname = \"venezuela_covid_impact_soc_dist.csv\"\n",
        "\n",
        "newarray= []\n",
        "\n",
        "with open(join(path_prefix, fname), \"r\") as f:\n",
        "  ndarray = np.array(f.read().splitlines()[1:])\n",
        "\n",
        "for line in ndarray:\n",
        "  templist=line.split(\",\")\n",
        "  newarray.append(templist)\n",
        "\n",
        "newarray = np.array(newarray)\n",
        "\n",
        "print(\"Number of rows: \",newarray.shape[0],\", columns: \", newarray.shape[1])"
      ],
      "execution_count": null,
      "outputs": [
        {
          "output_type": "stream",
          "name": "stdout",
          "text": [
            "Number of rows:  7341 , columns:  6\n"
          ]
        }
      ]
    },
    {
      "cell_type": "markdown",
      "metadata": {
        "id": "5hZw2gobH0Fy"
      },
      "source": [
        "### Q2 - Cleaning Date Values\n",
        "\n",
        "During the data collection process, most of the date values were registered with *non-numeric* rubbish characters between the date elements due to a glitch in the system. Some of the examples can be seen below where %Y represents years (e.g. 2021, 2020), %m month as a zero-padded decimal number (e.g. 07, 08) and %d day of the month as a zero-padded decimal number (e.g. 01, 03).\n",
        "\n",
        "```\n",
        "'%Y   %m %d', \n",
        "'  %Y----%m++++ %d', \n",
        "'<li>%Y %m %d</li>', \n",
        "'%Y /||\\ %m %d  ', \n",
        "'<<%Y  %m >> %d'\n",
        "```\n",
        "\n",
        "- You may assume that the order of date elements is always the same in the raw data: %Y %m %d.\n",
        "- Extract the actual date entries from the data. We expect you to use regular expressions for this part.\n",
        "- Rearrange the date values as **'%d-%m-%Y'** in the data (separate them with hypen -).\n",
        "- At the end, print the first three instances of the resulting dates as a list.\n",
        "\n",
        "```\n",
        "['26-12-2020' '10-12-2020' '19-11-2020']\n",
        "```"
      ]
    },
    {
      "cell_type": "code",
      "metadata": {
        "id": "qRJ3r8-vcp3S",
        "colab": {
          "base_uri": "https://localhost:8080/"
        },
        "outputId": "4d625d63-1318-4f2b-887f-8b967b0c1604"
      },
      "source": [
        "# your code\n",
        "arraylength = len(newarray)\n",
        "for data in range(arraylength):\n",
        "  regexm = re.match('\\D*(?P<yil>\\d{4})\\D*(?P<ay>\\d{2})\\D*(?P<gun>\\d{2})\\D*', newarray[data][1])\n",
        "  newarray[data][1] = regexm.group(\"gun\") + \"-\" + regexm.group(\"ay\") + \"-\" + regexm.group(\"yil\")\n",
        "printdata = []\n",
        "printdata.append(newarray[0][1])\n",
        "printdata.append(newarray[1][1])\n",
        "printdata.append(newarray[2][1])\n",
        "print(printdata)"
      ],
      "execution_count": null,
      "outputs": [
        {
          "output_type": "stream",
          "name": "stdout",
          "text": [
            "['26-12-2020', '10-12-2020', '19-11-2020']\n"
          ]
        }
      ]
    },
    {
      "cell_type": "markdown",
      "metadata": {
        "id": "WkVsm6IHq1Z_"
      },
      "source": [
        "### Q3 - Drop Duplicate Rows\n",
        "\n",
        "As mentioned above, some problems took place during the data collection process and we are suspecting a case of data duplication. In fact, it turns out that there are rows with duplicates in the data. An excerpt from the file can be seen below:\n",
        "\n",
        "```\n",
        "5907953602527232,01-08-2021,Not Available,Not Available,Not Available,Not available,Not Available,Agree,Very likely\n",
        "5907953602527232,01-08-2021,Not Available,Not Available,Not Available,Not available,Not Available,Agree,Very likely\n",
        "5520514392260608,11-16-2020,Female,36 to 45 years old,\"I can afford food, but nothing else\",Secondary school/ high school completed,I am unemployed,Agree,Very likely\n",
        "```\n",
        "\n",
        "- Remove the duplicate rows from the array so that only unique entries are left.\n",
        "- At the end, print the total number of rows in the data after the duplicate removal.\n",
        "\n",
        "```\n",
        "Number of rows after duplicate removal: [...]\n",
        "```"
      ]
    },
    {
      "cell_type": "code",
      "metadata": {
        "id": "Il2yjtDyq7Rv",
        "colab": {
          "base_uri": "https://localhost:8080/"
        },
        "outputId": "214ae88a-1de6-4c46-d288-241a6d1200e7"
      },
      "source": [
        "# your code\n",
        "newarray = np.unique(newarray,axis=0)\n",
        "\n",
        "print(\"Number of rows after duplicate removal: \", newarray.shape[0])"
      ],
      "execution_count": null,
      "outputs": [
        {
          "output_type": "stream",
          "name": "stdout",
          "text": [
            "Number of rows after duplicate removal:  7042\n"
          ]
        }
      ]
    },
    {
      "cell_type": "markdown",
      "metadata": {
        "id": "Cv9dk7AefEyd"
      },
      "source": [
        "### Q4 - Number of Entries per Month\n",
        "\n",
        "The users took the survey between November 2020 and January 2021. Display the total number of submissions per each month.\n",
        "\n",
        "- Calculate the number of entries registered in each month.\n",
        "- Display the result as a bar chart in which the bars are sorted wrt count values.\n",
        " \n",
        "![](https://i.ibb.co/5Fsv0Kb/m.png)\n",
        "\n",
        " *Hint: The dates are stored in a pre-defined format (day-month-year) after Q2.*"
      ]
    },
    {
      "cell_type": "code",
      "metadata": {
        "id": "yDeZWy0vfJBl",
        "colab": {
          "base_uri": "https://localhost:8080/",
          "height": 350
        },
        "outputId": "93458679-abaf-425f-bdf9-0124b5e2e38e"
      },
      "source": [
        "# your code\n",
        "\n",
        "dateslist = []\n",
        "datesvalues = []\n",
        "plt.figure(figsize=(11,5))\n",
        "datesvaluesDATA = {}\n",
        "arraylength = len(newarray)\n",
        "for data in range(arraylength):\n",
        "  barchartvalue = newarray[data][1].split(\"-\")[2] + \"-\" + newarray[data][1].split(\"-\")[1]\n",
        "  if barchartvalue in datesvaluesDATA:\n",
        "    datesvaluesDATA[barchartvalue] += 1\n",
        "  else:\n",
        "    datesvaluesDATA[barchartvalue] = 1\n",
        "\n",
        "newdict = {}\n",
        "for key in sorted(datesvaluesDATA, reverse= True):\n",
        "    newdict[key] = datesvaluesDATA[key]\n",
        "\n",
        "\n",
        "dateslist = list(newdict.keys())\n",
        "datesvalues = list(newdict.values())\n",
        "plt.barh(dateslist, datesvalues)\n",
        "\n",
        "for i, v in enumerate(datesvalues):\n",
        "    plt.text(v, i, str(v))\n",
        "plt.xlabel(\"# of Records\")\n",
        "plt.title(\"Number of Entries per Month\")\n",
        "plt.show()"
      ],
      "execution_count": null,
      "outputs": [
        {
          "output_type": "display_data",
          "data": {
            "image/png": "[encoded data removed]",
            "text/plain": [
              "<Figure size 792x360 with 1 Axes>"
            ]
          },
          "metadata": {
            "needs_background": "light"
          }
        }
      ]
    },
    {
      "cell_type": "markdown",
      "metadata": {
        "id": "3vUUznH1m2hK"
      },
      "source": [
        "### Q5 - Transforming the Employment Status Column\n",
        "\n",
        "In the survey, the users were asked to provide their education level. Since it was an optional question, some left it empty or prefered not to answer. For the first case, such responses were recored as `Not available`, while the latter as `Prefer not to answer`.\n",
        "\n",
        "In addition, some test takers provided the same answer with slightly different words. For instance, to indicate high school some wrote 'Secondary school/ high school completed', while others simply put 'High school'. To eliminate the inconsistency, we need to replace such entries with a coherent choice. In the dictionary below, keys correspond to the entries that need to be replaced by their associated value.\n",
        "\n",
        "- Replace the given education categories with the provided list.\n",
        "- Remove the rows with `Not available` or `Prefer not to answer` responses.\n",
        "- Finally, print the resulting number of rows and unique education categories .\n",
        "\n",
        "```\n",
        "Number of rows: [...]\n",
        "['High school' 'Post graduate' 'Primary school' 'Technical school' 'University']\n",
        "```"
      ]
    },
    {
      "cell_type": "code",
      "metadata": {
        "id": "XeyXFjMym6j1",
        "colab": {
          "base_uri": "https://localhost:8080/"
        },
        "outputId": "8c8b70c2-e414-4917-e30b-deb680d1c5a7"
      },
      "source": [
        "adj_edu = {\n",
        "    'Secondary school/ high school completed': 'High school',\n",
        "    'Secondary/high school': 'High school',\n",
        "    'Some secondary school / high school': 'High school',\n",
        "    'University or college degree completed': 'University',\n",
        "    'Some university or college': 'University',\n",
        "    'College or university': 'University',\n",
        "    'Technical school diploma or degree completed': 'Technical school',\n",
        "    'Some technical education (e.g polytechnic school)': 'Technical school',\n",
        "    'Post-graduate education': 'Post graduate',\n",
        "    'Some primary education': 'Primary school',\n",
        "    'Primary school completed': 'Primary school'\n",
        "}\n",
        "\n",
        "# your code\n",
        "datavalues = []\n",
        "datavalueslist = []\n",
        "for data in range(arraylength):\n",
        "  barchartvalue = newarray[data][1].split(\"-\")[2] + \"-\" + newarray[data][1].split(\"-\")[1]\n",
        "  if newarray[data][4] in adj_edu:\n",
        "    replacevalue = adj_edu[newarray[data][4]]\n",
        "    newarray[data][4] = replacevalue\n",
        "  \n",
        "  if newarray[data][4] != 'Not available' and newarray[data][4] != 'Prefer not to answer':\n",
        "    newnewdata = newarray[data]\n",
        "    datavalues.append(newnewdata)\n",
        "newarray = np.array(datavalues)\n",
        "\n",
        "\n",
        "for data in newarray:\n",
        "  if data[4] not in datavalueslist:\n",
        "    datavalueslist.append(data[4])\n",
        "  else:\n",
        "    pass\n",
        "\n",
        "\n",
        "print(\"Number of rows: \", len(newarray))\n",
        "print(datavalueslist)"
      ],
      "execution_count": null,
      "outputs": [
        {
          "output_type": "stream",
          "name": "stdout",
          "text": [
            "Number of rows:  6962\n",
            "['University', 'High school', 'Technical school', 'Post graduate', 'Primary school']\n"
          ]
        }
      ]
    },
    {
      "cell_type": "markdown",
      "metadata": {
        "id": "P2PXxdSEuF9e"
      },
      "source": [
        "### Q6 - Social Distancing & Education\n",
        "\n",
        "Lastly, we want to understand the relationship between education and adherence to social distancing. In the `how_likely_to_social_distance_when_out_in_public` column, there are five different replies, ranged between `'Very unlikely'` to `'Very likely'`. Here, we want to calculate the likelihood of getting `'Very likely'` replies conditioned on education status. In particular, you'll find the education category that maximizes this probability.\n",
        "\n",
        "\n",
        "\n",
        "$\\DeclareMathOperator*{\\argmax}{argmax} \\argmax\\limits_{\\small{edu} \\, \\in \\, \\text{Education Category}}\\;P(\\text{Social Distancing}=\\text{'Very likely'}|\\text{Education Category}=\\text{edu})$\n",
        "\n",
        "- For each education category, calculate the conditional probability above.\n",
        "- Get the one that returns the highest. \n",
        "- At the end, print the education category and its probability value.\n",
        "\n",
        "```\n",
        "Post graduate: [...]\n",
        "```"
      ]
    },
    {
      "cell_type": "code",
      "metadata": {
        "id": "s3fs58kXuLZM",
        "colab": {
          "base_uri": "https://localhost:8080/"
        },
        "outputId": "ad6fa43d-3881-4f2a-e3b2-11046735a606"
      },
      "source": [
        "# your solution\n",
        "\n",
        "returndata = {}\n",
        "responsecountlib={}\n",
        "probabilityofedulib={}\n",
        "searchData = \"Very likely\"\n",
        "probabilityofaandblib={}\n",
        "conditionalprobabilitylib={}\n",
        "for data in newarray:\n",
        "  if data[5] == searchData:\n",
        "    if data[4] not in returndata:\n",
        "      returndata[data[4]] = 1\n",
        "    else:\n",
        "      returndata[data[4]] = returndata[data[4]] + 1\n",
        "  if data[4] not in responsecountlib:\n",
        "    responsecountlib[data[4]]=1\n",
        "  elif data[4] in responsecountlib:\n",
        "    responsecountlib[data[4]]=responsecountlib[data[4]]+1\n",
        "\n",
        "totalcount = 0\n",
        "\n",
        "for a in responsecountlib:\n",
        "  totalcount=totalcount+responsecountlib[a]\n",
        "\n",
        "for b in responsecountlib:\n",
        "  probabilityofedulib[b]=responsecountlib[b]/totalcount\n",
        "\n",
        "for c in returndata:\n",
        "  probabilityofaandblib[c]=returndata[c]/totalcount\n",
        "\n",
        "for d in probabilityofaandblib:\n",
        "  conditionalprobabilitylib[d]=probabilityofaandblib[d]/probabilityofedulib[d]\n",
        "\n",
        "\n",
        "\n",
        "maxvalue = max(conditionalprobabilitylib, key=conditionalprobabilitylib.get)\n",
        "propvalue =conditionalprobabilitylib[max(conditionalprobabilitylib, key=conditionalprobabilitylib.get)]\n",
        "print(maxvalue, \": \",propvalue)"
      ],
      "execution_count": null,
      "outputs": [
        {
          "output_type": "stream",
          "name": "stdout",
          "text": [
            "Post graduate :  0.5345268542199488\n"
          ]
        }
      ]
    }
  ]
}