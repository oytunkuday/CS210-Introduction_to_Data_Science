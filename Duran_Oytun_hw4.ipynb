{
  "cells": [
    {
      "cell_type": "markdown",
      "source": [
        "#Homework 4: Fraud Detection\n",
        "\n",
        "*In this homework, you are going to work with a credit card transaction dataset.*\n",
        "\n",
        "**Submission Instructions**\n",
        "\n",
        "---\n",
        "It is important that you follow the submission instructions. \n",
        "1. Copy this assignment notebook to your Drive. <font color = 'red'> `File` --> `Save a copy in Drive`</font>. Rename it as <font color = 'green'>`Lastname_Firstname_hw4`</font>.\n",
        "\n",
        "2. Write your solutions in the cells  marked <font color = 'green'>`# your code`</font>.\n",
        "\n",
        "3. **Do not delete your outputs. They are essential for the grading. Make sure that cells containing your solutions are executed, and the results are displayed in the notebook.**\n",
        "\n",
        "4. When you're done, please submit your solutions as an <font color=\"red\">`.ipynb`</font> file. To do so:\n",
        "\n",
        "\n",
        "*   Click on <font color=\"red\">`File`</font>  at the top left on the Colab screen, then click on <font color = 'red'>`Download .ipynb`</font>.\n",
        "*   Then submit the downloaded <font color=\"red\">`.ipynb`</font> version of your work on SUCourse.\n",
        "\n",
        "For any question, you may send an email to the TAs and LAs.\n",
        "\n",
        "---"
      ],
      "metadata": {
        "id": "huMD2WEObht4"
      }
    },
    {
      "cell_type": "markdown",
      "source": [
        "In this homework, you will work on a dataset about credit card frauds.\n",
        "\n",
        "For this homework, you will use the provided file `fraud_data.csv`. Feature engineering had already been applied to the dataset and informative features created. Names of these features are hidden for secrecy purposes. There is no missing value in the data.\n",
        "\n",
        "Below, you can find all the set of features, provided in the dataset:\n",
        "*   **Known Features**\n",
        "    * transaction_id\t\n",
        "    * day\t\n",
        "    *\tamount\n",
        "    *\tcard \n",
        "\n",
        "\n",
        "*   **Other Features**\n",
        "    * feature0 . . . feature23\n",
        "\n",
        "*   **Target**\n",
        "    * label (True: Fraudalent Transaction, False: Non-Fraudalent Transaction)\n",
        "    \n",
        "\n",
        "    \n",
        "*Do not forget to add the shared `fraud_data.csv` file to your drive and mount to your drive. Otherwise, you won't be able to read the file.*"
      ],
      "metadata": {
        "id": "tS3zzVqIcL4M"
      }
    },
    {
      "cell_type": "code",
      "execution_count": null,
      "metadata": {
        "colab": {
          "base_uri": "https://localhost:8080/"
        },
        "id": "dppFzNJq6jZu",
        "outputId": "7eb1bac2-aebd-47e4-b52c-1272f9c2829a"
      },
      "outputs": [
        {
          "output_type": "stream",
          "name": "stdout",
          "text": [
            "Mounted at ./drive\n"
          ]
        }
      ],
      "source": [
        "from google.colab import drive\n",
        "drive.mount(\"./drive\", force_remount=True)\n",
        "\n",
        "path_prefix = \"./drive/My Drive\""
      ]
    },
    {
      "cell_type": "code",
      "source": [
        "import pandas as pd \n",
        "import numpy as np\n",
        "import matplotlib.pyplot as plt\n",
        "from os.path import join\n",
        "\n",
        "%matplotlib inline"
      ],
      "metadata": {
        "id": "rM-J0Xb7eYKJ"
      },
      "execution_count": null,
      "outputs": []
    },
    {
      "cell_type": "code",
      "source": [
        "filename = \"fraud_data.csv\"\n",
        "df = pd.read_csv(join(path_prefix, filename), index_col=0)\n",
        "\n",
        "df.head()\n"
      ],
      "metadata": {
        "colab": {
          "base_uri": "https://localhost:8080/",
          "height": 270
        },
        "id": "Py2jPlQ6bCTM",
        "outputId": "d16e70f9-9823-4a3f-a3fb-a3bd4f5e40b6"
      },
      "execution_count": null,
      "outputs": [
        {
          "output_type": "execute_result",
          "data": {
            "text/html": [
              "\n",
              "  <div id=\"df-68f43c67-7a53-484a-b4b2-5e50b3af4fc5\">\n",
              "    <div class=\"colab-df-container\">\n",
              "      <div>\n",
              "<style scoped>\n",
              "    .dataframe tbody tr th:only-of-type {\n",
              "        vertical-align: middle;\n",
              "    }\n",
              "\n",
              "    .dataframe tbody tr th {\n",
              "        vertical-align: top;\n",
              "    }\n",
              "\n",
              "    .dataframe thead th {\n",
              "        text-align: right;\n",
              "    }\n",
              "</style>\n",
              "<table border=\"1\" class=\"dataframe\">\n",
              "  <thead>\n",
              "    <tr style=\"text-align: right;\">\n",
              "      <th></th>\n",
              "      <th>transaction_id</th>\n",
              "      <th>day</th>\n",
              "      <th>amount</th>\n",
              "      <th>card</th>\n",
              "      <th>feature0</th>\n",
              "      <th>feature1</th>\n",
              "      <th>feature2</th>\n",
              "      <th>feature3</th>\n",
              "      <th>feature4</th>\n",
              "      <th>feature5</th>\n",
              "      <th>feature6</th>\n",
              "      <th>feature7</th>\n",
              "      <th>feature8</th>\n",
              "      <th>feature9</th>\n",
              "      <th>feature10</th>\n",
              "      <th>feature11</th>\n",
              "      <th>feature12</th>\n",
              "      <th>feature13</th>\n",
              "      <th>feature14</th>\n",
              "      <th>feature15</th>\n",
              "      <th>feature16</th>\n",
              "      <th>feature17</th>\n",
              "      <th>feature18</th>\n",
              "      <th>feature19</th>\n",
              "      <th>feature20</th>\n",
              "      <th>feature21</th>\n",
              "      <th>feature22</th>\n",
              "      <th>feature23</th>\n",
              "      <th>label</th>\n",
              "    </tr>\n",
              "  </thead>\n",
              "  <tbody>\n",
              "    <tr>\n",
              "      <th>0</th>\n",
              "      <td>861163</td>\n",
              "      <td>11</td>\n",
              "      <td>4.14</td>\n",
              "      <td>2105835</td>\n",
              "      <td>-430.764171</td>\n",
              "      <td>-320.015845</td>\n",
              "      <td>-126.521888</td>\n",
              "      <td>62.573045</td>\n",
              "      <td>101.190832</td>\n",
              "      <td>-19.647190</td>\n",
              "      <td>-13.328663</td>\n",
              "      <td>3.536347</td>\n",
              "      <td>-12.885088</td>\n",
              "      <td>1.575640</td>\n",
              "      <td>-0.879015</td>\n",
              "      <td>-1.013924</td>\n",
              "      <td>-2.195600</td>\n",
              "      <td>-0.335761</td>\n",
              "      <td>-0.566656</td>\n",
              "      <td>0.133997</td>\n",
              "      <td>-0.112530</td>\n",
              "      <td>0.133236</td>\n",
              "      <td>0.061701</td>\n",
              "      <td>-0.040570</td>\n",
              "      <td>-0.131249</td>\n",
              "      <td>-0.016216</td>\n",
              "      <td>0.001330</td>\n",
              "      <td>-0.000022</td>\n",
              "      <td>False</td>\n",
              "    </tr>\n",
              "    <tr>\n",
              "      <th>1</th>\n",
              "      <td>481857</td>\n",
              "      <td>7</td>\n",
              "      <td>102.58</td>\n",
              "      <td>3595939</td>\n",
              "      <td>-435.431389</td>\n",
              "      <td>-322.187188</td>\n",
              "      <td>-13.951082</td>\n",
              "      <td>-6.550536</td>\n",
              "      <td>-119.609051</td>\n",
              "      <td>4.658029</td>\n",
              "      <td>-3.273450</td>\n",
              "      <td>3.490142</td>\n",
              "      <td>9.482249</td>\n",
              "      <td>17.858529</td>\n",
              "      <td>-0.554083</td>\n",
              "      <td>0.126893</td>\n",
              "      <td>-0.220055</td>\n",
              "      <td>0.022814</td>\n",
              "      <td>-0.103251</td>\n",
              "      <td>-0.788776</td>\n",
              "      <td>0.332418</td>\n",
              "      <td>0.997110</td>\n",
              "      <td>-0.172463</td>\n",
              "      <td>0.032128</td>\n",
              "      <td>-0.073120</td>\n",
              "      <td>-0.000139</td>\n",
              "      <td>-0.002084</td>\n",
              "      <td>-0.000290</td>\n",
              "      <td>False</td>\n",
              "    </tr>\n",
              "    <tr>\n",
              "      <th>2</th>\n",
              "      <td>1215246</td>\n",
              "      <td>16</td>\n",
              "      <td>116.98</td>\n",
              "      <td>5953735</td>\n",
              "      <td>-434.424026</td>\n",
              "      <td>-330.553462</td>\n",
              "      <td>-18.809262</td>\n",
              "      <td>41.065894</td>\n",
              "      <td>74.053132</td>\n",
              "      <td>107.341293</td>\n",
              "      <td>-10.219304</td>\n",
              "      <td>3.182406</td>\n",
              "      <td>2.985591</td>\n",
              "      <td>-0.833696</td>\n",
              "      <td>-0.149106</td>\n",
              "      <td>0.001384</td>\n",
              "      <td>-0.605515</td>\n",
              "      <td>-0.194779</td>\n",
              "      <td>0.436881</td>\n",
              "      <td>-1.341081</td>\n",
              "      <td>0.527236</td>\n",
              "      <td>-1.071288</td>\n",
              "      <td>0.207154</td>\n",
              "      <td>0.059550</td>\n",
              "      <td>1.247738</td>\n",
              "      <td>-0.217314</td>\n",
              "      <td>0.075597</td>\n",
              "      <td>-0.000344</td>\n",
              "      <td>False</td>\n",
              "    </tr>\n",
              "    <tr>\n",
              "      <th>3</th>\n",
              "      <td>793548</td>\n",
              "      <td>11</td>\n",
              "      <td>59.90</td>\n",
              "      <td>1298385</td>\n",
              "      <td>-442.129375</td>\n",
              "      <td>632.447065</td>\n",
              "      <td>330.925334</td>\n",
              "      <td>-264.756853</td>\n",
              "      <td>-6.839567</td>\n",
              "      <td>48.566958</td>\n",
              "      <td>4.905629</td>\n",
              "      <td>-15.643984</td>\n",
              "      <td>-4.170122</td>\n",
              "      <td>-0.928957</td>\n",
              "      <td>-1.944994</td>\n",
              "      <td>1.173714</td>\n",
              "      <td>0.142302</td>\n",
              "      <td>-1.038035</td>\n",
              "      <td>1.041172</td>\n",
              "      <td>0.816854</td>\n",
              "      <td>-0.418644</td>\n",
              "      <td>0.152984</td>\n",
              "      <td>0.253243</td>\n",
              "      <td>0.006046</td>\n",
              "      <td>-0.016408</td>\n",
              "      <td>-0.004193</td>\n",
              "      <td>-0.020025</td>\n",
              "      <td>0.000004</td>\n",
              "      <td>False</td>\n",
              "    </tr>\n",
              "    <tr>\n",
              "      <th>4</th>\n",
              "      <td>4307</td>\n",
              "      <td>1</td>\n",
              "      <td>138.00</td>\n",
              "      <td>5029495</td>\n",
              "      <td>-405.270687</td>\n",
              "      <td>-303.103313</td>\n",
              "      <td>-253.927088</td>\n",
              "      <td>-38.299339</td>\n",
              "      <td>-117.636587</td>\n",
              "      <td>-8.799181</td>\n",
              "      <td>-2.525076</td>\n",
              "      <td>-16.500900</td>\n",
              "      <td>-12.269734</td>\n",
              "      <td>1.010618</td>\n",
              "      <td>0.759805</td>\n",
              "      <td>4.383355</td>\n",
              "      <td>0.442175</td>\n",
              "      <td>0.522420</td>\n",
              "      <td>-1.306245</td>\n",
              "      <td>0.954463</td>\n",
              "      <td>1.138813</td>\n",
              "      <td>-0.145031</td>\n",
              "      <td>0.701119</td>\n",
              "      <td>-0.997044</td>\n",
              "      <td>-0.077150</td>\n",
              "      <td>-0.008464</td>\n",
              "      <td>0.000779</td>\n",
              "      <td>0.000138</td>\n",
              "      <td>False</td>\n",
              "    </tr>\n",
              "  </tbody>\n",
              "</table>\n",
              "</div>\n",
              "      <button class=\"colab-df-convert\" onclick=\"convertToInteractive('df-68f43c67-7a53-484a-b4b2-5e50b3af4fc5')\"\n",
              "              title=\"Convert this dataframe to an interactive table.\"\n",
              "              style=\"display:none;\">\n",
              "        \n",
              "  <svg xmlns=\"http://www.w3.org/2000/svg\" height=\"24px\"viewBox=\"0 0 24 24\"\n",
              "       width=\"24px\">\n",
              "    <path d=\"M0 0h24v24H0V0z\" fill=\"none\"/>\n",
              "    <path d=\"M18.56 5.44l.94 2.06.94-2.06 2.06-.94-2.06-.94-.94-2.06-.94 2.06-2.06.94zm-11 1L8.5 8.5l.94-2.06 2.06-.94-2.06-.94L8.5 2.5l-.94 2.06-2.06.94zm10 10l.94 2.06.94-2.06 2.06-.94-2.06-.94-.94-2.06-.94 2.06-2.06.94z\"/><path d=\"M17.41 7.96l-1.37-1.37c-.4-.4-.92-.59-1.43-.59-.52 0-1.04.2-1.43.59L10.3 9.45l-7.72 7.72c-.78.78-.78 2.05 0 2.83L4 21.41c.39.39.9.59 1.41.59.51 0 1.02-.2 1.41-.59l7.78-7.78 2.81-2.81c.8-.78.8-2.07 0-2.86zM5.41 20L4 18.59l7.72-7.72 1.47 1.35L5.41 20z\"/>\n",
              "  </svg>\n",
              "      </button>\n",
              "      \n",
              "  <style>\n",
              "    .colab-df-container {\n",
              "      display:flex;\n",
              "      flex-wrap:wrap;\n",
              "      gap: 12px;\n",
              "    }\n",
              "\n",
              "    .colab-df-convert {\n",
              "      background-color: #E8F0FE;\n",
              "      border: none;\n",
              "      border-radius: 50%;\n",
              "      cursor: pointer;\n",
              "      display: none;\n",
              "      fill: #1967D2;\n",
              "      height: 32px;\n",
              "      padding: 0 0 0 0;\n",
              "      width: 32px;\n",
              "    }\n",
              "\n",
              "    .colab-df-convert:hover {\n",
              "      background-color: #E2EBFA;\n",
              "      box-shadow: 0px 1px 2px rgba(60, 64, 67, 0.3), 0px 1px 3px 1px rgba(60, 64, 67, 0.15);\n",
              "      fill: #174EA6;\n",
              "    }\n",
              "\n",
              "    [theme=dark] .colab-df-convert {\n",
              "      background-color: #3B4455;\n",
              "      fill: #D2E3FC;\n",
              "    }\n",
              "\n",
              "    [theme=dark] .colab-df-convert:hover {\n",
              "      background-color: #434B5C;\n",
              "      box-shadow: 0px 1px 3px 1px rgba(0, 0, 0, 0.15);\n",
              "      filter: drop-shadow(0px 1px 2px rgba(0, 0, 0, 0.3));\n",
              "      fill: #FFFFFF;\n",
              "    }\n",
              "  </style>\n",
              "\n",
              "      <script>\n",
              "        const buttonEl =\n",
              "          document.querySelector('#df-68f43c67-7a53-484a-b4b2-5e50b3af4fc5 button.colab-df-convert');\n",
              "        buttonEl.style.display =\n",
              "          google.colab.kernel.accessAllowed ? 'block' : 'none';\n",
              "\n",
              "        async function convertToInteractive(key) {\n",
              "          const element = document.querySelector('#df-68f43c67-7a53-484a-b4b2-5e50b3af4fc5');\n",
              "          const dataTable =\n",
              "            await google.colab.kernel.invokeFunction('convertToInteractive',\n",
              "                                                     [key], {});\n",
              "          if (!dataTable) return;\n",
              "\n",
              "          const docLinkHtml = 'Like what you see? Visit the ' +\n",
              "            '<a target=\"_blank\" href=https://colab.research.google.com/notebooks/data_table.ipynb>data table notebook</a>'\n",
              "            + ' to learn more about interactive tables.';\n",
              "          element.innerHTML = '';\n",
              "          dataTable['output_type'] = 'display_data';\n",
              "          await google.colab.output.renderOutput(dataTable, element);\n",
              "          const docLink = document.createElement('div');\n",
              "          docLink.innerHTML = docLinkHtml;\n",
              "          element.appendChild(docLink);\n",
              "        }\n",
              "      </script>\n",
              "    </div>\n",
              "  </div>\n",
              "  "
            ],
            "text/plain": [
              "   transaction_id  day  amount     card  ...  feature21  feature22  feature23  label\n",
              "0          861163   11    4.14  2105835  ...  -0.016216   0.001330  -0.000022  False\n",
              "1          481857    7  102.58  3595939  ...  -0.000139  -0.002084  -0.000290  False\n",
              "2         1215246   16  116.98  5953735  ...  -0.217314   0.075597  -0.000344  False\n",
              "3          793548   11   59.90  1298385  ...  -0.004193  -0.020025   0.000004  False\n",
              "4            4307    1  138.00  5029495  ...  -0.008464   0.000779   0.000138  False\n",
              "\n",
              "[5 rows x 29 columns]"
            ]
          },
          "metadata": {},
          "execution_count": 26
        }
      ]
    },
    {
      "cell_type": "markdown",
      "metadata": {
        "id": "fkA4-U9tAnwo"
      },
      "source": [
        "## Ratio Between Fraudalent and Non-Fraudalent Transactions (5 Points)\n"
      ]
    },
    {
      "cell_type": "markdown",
      "source": [
        "The dataset is imbalanced so that non-frauds are dominant in the data. In this part you are asked to plot a pie chart and show the ratio between fraudalent and non-fraudalent transactions. Your output should be like: \n",
        "\n",
        "![](https://i.ibb.co/nRYRxrt/raito-label.png)"
      ],
      "metadata": {
        "id": "kxDTUVvdlqHq"
      }
    },
    {
      "cell_type": "code",
      "source": [
        "#your code\n",
        "plt.title(\"Ratio of Transactions\")\n",
        "plt.axis('equal')\n",
        "plt.pie(df['label'].value_counts().tolist(),labels=['Non-Fraudalent', 'Fraudalent'], colors=['green', 'red'], startangle=35, autopct='%1.1f%%')\n",
        "plt.show()"
      ],
      "metadata": {
        "id": "NeYHE4yUrRZg",
        "colab": {
          "base_uri": "https://localhost:8080/",
          "height": 264
        },
        "outputId": "dea996ac-6a94-4d05-a65a-05ca8793ee31"
      },
      "execution_count": null,
      "outputs": [
        {
          "output_type": "display_data",
          "data": {
            "image/png": "[encoded data removed]",
            "text/plain": [
              "<Figure size 432x288 with 1 Axes>"
            ]
          },
          "metadata": {}
        }
      ]
    },
    {
      "cell_type": "markdown",
      "source": [
        "## Split the data into train (70%), validation (15%) and test (15%). (5 Points)\n",
        "\n",
        "Use `train_test_split` with `random_state` parameter set to 0. Drop `transaction_id` and \t`card` columns since they dont give any information.\n",
        "\n",
        "*Do not forget that the data is imbalanced so you should handle that with stratified splitting.*"
      ],
      "metadata": {
        "id": "rPES8QOFrWhI"
      }
    },
    {
      "cell_type": "code",
      "source": [
        "from sklearn.model_selection import train_test_split\n",
        "\n",
        "#your code\n",
        "df=df.drop(\"transaction_id\",1)\n",
        "df=df.drop(\"card\",1)\n",
        "X=df.drop('label',axis=1)\n",
        "y=df['label']\n",
        "X_train, X_remaining, y_train, y_remaining = train_test_split(X, y, test_size=0.30, random_state=0,stratify=y)\n",
        "X_test, X_val, y_test, y_val = train_test_split(X_remaining, y_remaining, test_size=0.50, random_state=0,stratify=y_remaining)"
      ],
      "metadata": {
        "id": "7t2mnZefnVqI"
      },
      "execution_count": null,
      "outputs": []
    },
    {
      "cell_type": "markdown",
      "source": [
        "## Train a Default Random Forest Model (Baseline) (5 Points)\n",
        "\n",
        "Remember that the dataset is imbalanced. So here, you are expexted to handle this imbalance issue by giving more weight for the minority class. \n",
        "\n",
        "***Hint:*** *You can consider changing the class weight for the model since the data is imbalanced.*"
      ],
      "metadata": {
        "id": "WcPsvfHQtzpQ"
      }
    },
    {
      "cell_type": "code",
      "source": [
        "from sklearn.ensemble import RandomForestClassifier\n",
        "\n",
        "#your code\n",
        "myModel= RandomForestClassifier(n_estimators=100, random_state=0, class_weight='balanced')\n",
        "myModel.fit(X_train, y_train)\n",
        "predictions=myModel.predict(X_val)"
      ],
      "metadata": {
        "id": "7YYwPhEfstLo"
      },
      "execution_count": null,
      "outputs": []
    },
    {
      "cell_type": "markdown",
      "source": [
        "## Evaluate the Baseline Model (30 Points)\n",
        "\n",
        "There are some functions below already imported for you. You can use those functions to find results but of course there are other ways too. Those are given for you to give hints. "
      ],
      "metadata": {
        "id": "xu7a92zfxTm-"
      }
    },
    {
      "cell_type": "markdown",
      "source": [
        "### Plot Confusion Matrix (10 Points)\n",
        "\n",
        "In this part you are asked to plot the Confusion Matrix of the Baseline Model for the predictions made on the validation data. Your output should be similar to: \n",
        "\n",
        "![](https://i.ibb.co/gwmCszd/conf-eval.png)"
      ],
      "metadata": {
        "id": "slr0q8RSxapl"
      }
    },
    {
      "cell_type": "code",
      "source": [
        "from sklearn.metrics import plot_confusion_matrix\n",
        "from sklearn.metrics import confusion_matrix\n",
        "\n",
        "#your code\n",
        "plot_confusion_matrix(myModel, X_val, y_val, cmap=\"Greens\")\n",
        "plt.title(\"Confusion Matrix Evaluated on Validation Data\")\n",
        "plt.show()"
      ],
      "metadata": {
        "id": "gw1lW0bwx1ql",
        "colab": {
          "base_uri": "https://localhost:8080/",
          "height": 350
        },
        "outputId": "e96a869c-91f6-468c-db36-61b82c0c9adf"
      },
      "execution_count": null,
      "outputs": [
        {
          "output_type": "stream",
          "name": "stderr",
          "text": [
            "/usr/local/lib/python3.7/dist-packages/sklearn/utils/deprecation.py:87: FutureWarning: Function plot_confusion_matrix is deprecated; Function `plot_confusion_matrix` is deprecated in 1.0 and will be removed in 1.2. Use one of the class methods: ConfusionMatrixDisplay.from_predictions or ConfusionMatrixDisplay.from_estimator.\n",
            "  warnings.warn(msg, category=FutureWarning)\n"
          ]
        },
        {
          "output_type": "display_data",
          "data": {
            "image/png": "[encoded data removed]",
            "text/plain": [
              "<Figure size 432x288 with 2 Axes>"
            ]
          },
          "metadata": {
            "needs_background": "light"
          }
        }
      ]
    },
    {
      "cell_type": "markdown",
      "source": [
        "### Plot ROC Curve Evaluated on Validation Data (10 Points)\n",
        "\n",
        "In this part you are asked to plot ROC curve of the model's output on the validation data. Your output should be similar to: \n",
        "\n",
        "![](https://i.ibb.co/z5BFJxF/roc-val.png)\n",
        "\n"
      ],
      "metadata": {
        "id": "Vd29RT0C03j0"
      }
    },
    {
      "cell_type": "code",
      "source": [
        "from sklearn.metrics import RocCurveDisplay\n",
        "\n",
        "#your code\n",
        "display_roc=RocCurveDisplay.from_estimator(myModel,X_val,y_val)\n",
        "plt.xlabel(\"False Positive Rate\")\n",
        "plt.ylabel(\"True Positive Rate\")\n",
        "plt.ylim([0.0,1.0])\n",
        "plt.plot([0,1],[0,1], color=\"red\",lw=2,linestyle=\"--\")\n",
        "plt.xlim([0.0,1.0])\n",
        "plt.title(\"Receiver Operating Characteristic\")\n",
        "plt.show()"
      ],
      "metadata": {
        "id": "mNUadbU01qsu",
        "colab": {
          "base_uri": "https://localhost:8080/",
          "height": 295
        },
        "outputId": "b137495c-9e14-4469-d8b6-620512c9ab0a"
      },
      "execution_count": null,
      "outputs": [
        {
          "output_type": "display_data",
          "data": {
            "image/png": "[encoded data removed]",
            "text/plain": [
              "<Figure size 432x288 with 1 Axes>"
            ]
          },
          "metadata": {
            "needs_background": "light"
          }
        }
      ]
    },
    {
      "cell_type": "markdown",
      "source": [
        "### Plot Precision-Recall Curve (10 Points)\n",
        "\n",
        "In this part, you are asked to plot precision-recall curve of the model using validation data. Your output should be similar to: \n",
        "\n",
        "![](https://i.ibb.co/xC5KXXz/pre-recall-val.png)"
      ],
      "metadata": {
        "id": "65Js011cIcLn"
      }
    },
    {
      "cell_type": "code",
      "source": [
        "from sklearn.metrics import PrecisionRecallDisplay\n",
        "\n",
        "#your code\n",
        "PrecisionRecallDisplay.from_estimator(myModel, X_val, y_val)\n",
        "plt.title(\"2-class Precision-Recall curve\")\n",
        "plt.show()"
      ],
      "metadata": {
        "id": "ZmMdpHp9Idrs",
        "colab": {
          "base_uri": "https://localhost:8080/",
          "height": 295
        },
        "outputId": "90aa2605-baaf-4462-bba1-f7965034234c"
      },
      "execution_count": null,
      "outputs": [
        {
          "output_type": "display_data",
          "data": {
            "image/png": "[encoded data removed]",
            "text/plain": [
              "<Figure size 432x288 with 1 Axes>"
            ]
          },
          "metadata": {
            "needs_background": "light"
          }
        }
      ]
    },
    {
      "cell_type": "markdown",
      "source": [
        "## Hyperparameter Tuning (20 Points)\n",
        "\n",
        "Now that you trained the default model and see the results, it is time to make it better with hyperparameter tuning. To evaluate the model performances you need to use AUPRC(Area Under Precision-Recall Curve). To this end, store AUPRC values for each model then decide which parameters are the best to use.\n",
        "\n",
        "Here, you are asked to tune hyperparameters in two steps. \n",
        "\n",
        "**Step 1:**  \\\\\n",
        "In the first step, train different models only changing number of estimators. Then plot `n_estimators` vs AUPRC scores using validation data. \n",
        "\n",
        "Use the following values for this step:\n",
        "```\n",
        "'n_estimators': [50,100,200,300,500,750]\n",
        "```\n",
        "**Step 2:** \\\\\n",
        "In the second step, train different models only changing max_features values. Then plot `max_features` vs AUPRC scores using validation data. You should use the best value for the `n_estimators` that you obtained in the first step.\n",
        "\n",
        "Use the following values for this step:\n",
        "```\n",
        "'max_features': [3,5,7,10,15,20,25]\n",
        "```\n",
        "\n",
        "**Remember that positive class is fraudalent ones.**\n",
        "\n",
        "Your plots should look like below. Remember these plots are based on random allocations so it is highly possible that the values you get will not be exactly the same. However, structures should be the same.\n",
        "\n",
        "<img src=\"https://i.ibb.co/HVWmtvg/Screen-Shot-2021-12-13-at-18-20-45.png\" alt=\"drawing\" width=\"400\"/>\n",
        "\n",
        "\n",
        "*Set your y-axis limits between 0.8 and 1 to have similar plots.*\n",
        "\n",
        "\n",
        "\n"
      ],
      "metadata": {
        "id": "bQXHT3_24PXi"
      }
    },
    {
      "cell_type": "code",
      "source": [
        "from sklearn.metrics import auc, precision_recall_curve\n",
        "#you can use auc function to calculate the area under a curve\n",
        "\n",
        "#your code\n",
        "yticks = [0.85, 0.87, 0.88, 0.90, 0.92, 0.93, 0.95, 0.97, 0.98, 1]\n",
        "n_estimators = [50,100,200,300,500,750]\n",
        "max_features = [3,5,7,10,15,20,25]\n",
        "auprc_estimators = []\n",
        "auprc_features = []\n",
        "\n",
        "for estimation in n_estimators:\n",
        "  newOne= RandomForestClassifier(n_estimators=estimation, random_state=0, class_weight='balanced')\n",
        "  newOne.fit(X_train,y_train)\n",
        "  predictions_newone=newOne.predict_proba(X_val)[:,1]\n",
        "  precision, recall, thresholds = precision_recall_curve(y_val,predictions_newone)\n",
        "  auprc_estimators.append(auc(recall,precision))\n",
        "  \n",
        "for feature in max_features:\n",
        "  newOne=RandomForestClassifier(max_features=feature,random_state=0,class_weight='balanced')\n",
        "  newOne.fit(X_train,y_train)\n",
        "  predictions_newone=newOne.predict_proba(X_val)[:, 1]\n",
        "  precision,recall,thresholds=precision_recall_curve(y_val,predictions_newone)\n",
        "  auprc_features.append(auc(recall,precision))\n",
        "\n",
        "plt.plot(n_estimators,auprc_estimators,linestyle='--',marker='o',markersize=3.5)\n",
        "plt.xlabel('n_estimators')\n",
        "plt.ylabel('AUPRC')\n",
        "plt.title('AUPRC scores vs n_estimators')\n",
        "plt.xticks(n_estimators)\n",
        "plt.yticks(yticks)\n",
        "plt.ylim([0.85,1.0])\n",
        "plt.grid(True)\n",
        "plt.show()\n",
        "\n",
        "plt.plot(max_features, auprc_features, linestyle = '--', marker = 'o', markersize = 3.5)\n",
        "plt.grid(True)\n",
        "plt.xlabel('max_features')\n",
        "plt.ylabel('AUPRC')\n",
        "plt.title('AUPRC scores vs max_features')\n",
        "plt.xticks(max_features)\n",
        "plt.yticks(yticks)\n",
        "plt.ylim([0.85, 1.0])\n",
        "plt.show()"
      ],
      "metadata": {
        "id": "Szueb-V0Kill",
        "colab": {
          "base_uri": "https://localhost:8080/",
          "height": 575
        },
        "outputId": "fb3d8c73-f1da-436c-f3ff-e24671f7e084"
      },
      "execution_count": null,
      "outputs": [
        {
          "output_type": "display_data",
          "data": {
            "image/png": "[encoded data removed]",
            "text/plain": [
              "<Figure size 432x288 with 1 Axes>"
            ]
          },
          "metadata": {
            "needs_background": "light"
          }
        },
        {
          "output_type": "display_data",
          "data": {
            "image/png": "[encoded data removed]",
            "text/plain": [
              "<Figure size 432x288 with 1 Axes>"
            ]
          },
          "metadata": {
            "needs_background": "light"
          }
        }
      ]
    },
    {
      "cell_type": "markdown",
      "source": [
        "## Retrain the Model with the Best Parameters (5 Points)\n",
        "\n",
        "Here you should retrain the random forest model with train and validation data combined using the best parameters you get from the hyperparameter tuning."
      ],
      "metadata": {
        "id": "-cgkN-b4EE2A"
      }
    },
    {
      "cell_type": "code",
      "source": [
        "#your code\n",
        "bestModel= RandomForestClassifier(n_estimators= n_estimators[auprc_estimators.index(max(auprc_estimators))], max_features = max_features[auprc_features.index(max(auprc_features))],class_weight='balanced')\n",
        "bestModel.fit(pd.concat([X_train,X_val]), pd.concat([y_train,y_val]))"
      ],
      "metadata": {
        "id": "RHH2A_8cFCyG",
        "colab": {
          "base_uri": "https://localhost:8080/"
        },
        "outputId": "3aa43d6d-8e14-4c6c-9a03-c1f275fdfdd2"
      },
      "execution_count": null,
      "outputs": [
        {
          "output_type": "execute_result",
          "data": {
            "text/plain": [
              "RandomForestClassifier(class_weight='balanced', max_features=3,\n",
              "                       n_estimators=500)"
            ]
          },
          "metadata": {},
          "execution_count": 38
        }
      ]
    },
    {
      "cell_type": "markdown",
      "source": [
        "## Evaluate the Final Model using Test data (30 Points)\n",
        "\n",
        "Here, you are asked to evaluate the final model using the test data. Follow the same steps that you followed while evaluating the dafault model."
      ],
      "metadata": {
        "id": "3UhKFefzFMpS"
      }
    },
    {
      "cell_type": "markdown",
      "source": [
        "### Plot Confusion Matrix (10 Points)"
      ],
      "metadata": {
        "id": "xVs2BiRQFh8C"
      }
    },
    {
      "cell_type": "markdown",
      "source": [
        "Output should be like:\n",
        "\n",
        "![](https://i.ibb.co/YBK9S8J/conf-mat-test.png)\n",
        "\n",
        "*Please keep in mind that this confusion matrix might be different than what you will get.*"
      ],
      "metadata": {
        "id": "LplBdifcF6q8"
      }
    },
    {
      "cell_type": "code",
      "source": [
        "#your code\n",
        "plot_confusion_matrix(bestModel, X_test, y_test,cmap=\"Greens\")\n",
        "plt.title(\"Confusion Matrix Evaluated on Validation Data\") \n",
        "plt.show()"
      ],
      "metadata": {
        "id": "hef5AiK1Gcyo",
        "colab": {
          "base_uri": "https://localhost:8080/",
          "height": 350
        },
        "outputId": "3877eb78-afeb-42b2-fd05-bfc7c5c969ad"
      },
      "execution_count": null,
      "outputs": [
        {
          "output_type": "stream",
          "name": "stderr",
          "text": [
            "/usr/local/lib/python3.7/dist-packages/sklearn/utils/deprecation.py:87: FutureWarning: Function plot_confusion_matrix is deprecated; Function `plot_confusion_matrix` is deprecated in 1.0 and will be removed in 1.2. Use one of the class methods: ConfusionMatrixDisplay.from_predictions or ConfusionMatrixDisplay.from_estimator.\n",
            "  warnings.warn(msg, category=FutureWarning)\n"
          ]
        },
        {
          "output_type": "display_data",
          "data": {
            "image/png": "[encoded data removed]",
            "text/plain": [
              "<Figure size 432x288 with 2 Axes>"
            ]
          },
          "metadata": {
            "needs_background": "light"
          }
        }
      ]
    },
    {
      "cell_type": "markdown",
      "source": [
        "### Plot ROC Curve Evaluated on Test Data (10 Points)"
      ],
      "metadata": {
        "id": "AXLb2RwsGSOv"
      }
    },
    {
      "cell_type": "markdown",
      "source": [
        "Output should be like:\n",
        "\n",
        "![](https://i.ibb.co/59drzBm/roc-test.png)"
      ],
      "metadata": {
        "id": "wYawgWK1HdlO"
      }
    },
    {
      "cell_type": "code",
      "source": [
        "#your code\n",
        "RocCurveDisplay.from_estimator(bestModel, X_test, y_test)\n",
        "plt.plot([0, 1], [0, 1], color=\"red\", linestyle=\"--\")\n",
        "plt.xlim([0.0, 1.0])\n",
        "plt.ylim([0.0, 1.0])\n",
        "plt.xlabel(\"False Positive Rate\")\n",
        "plt.ylabel(\"True Positive Rate\")\n",
        "plt.title(\"Receiver Operating Characteristic\")"
      ],
      "metadata": {
        "id": "_wCbbLGAFML4",
        "colab": {
          "base_uri": "https://localhost:8080/",
          "height": 312
        },
        "outputId": "24016534-3c7b-4e70-dcfd-a73367b81606"
      },
      "execution_count": null,
      "outputs": [
        {
          "output_type": "execute_result",
          "data": {
            "text/plain": [
              "Text(0.5, 1.0, 'Receiver Operating Characteristic')"
            ]
          },
          "metadata": {},
          "execution_count": 40
        },
        {
          "output_type": "display_data",
          "data": {
            "image/png": "[encoded data removed]",
            "text/plain": [
              "<Figure size 432x288 with 1 Axes>"
            ]
          },
          "metadata": {
            "needs_background": "light"
          }
        }
      ]
    },
    {
      "cell_type": "markdown",
      "source": [
        "### Plot Precision-Recall Curve (10 Points)\n",
        "\n",
        "Uutput should be similar to: \n",
        "\n",
        "![](https://i.ibb.co/xC5KXXz/pre-recall-val.png)"
      ],
      "metadata": {
        "id": "hwYpB01WXP0Z"
      }
    },
    {
      "cell_type": "code",
      "source": [
        "#your code"
      ],
      "metadata": {
        "id": "Oc-V_1hcXPeA"
      },
      "execution_count": null,
      "outputs": []
    },
    {
      "cell_type": "code",
      "source": [
        "PrecisionRecallDisplay.from_estimator(bestModel, X_test,y_test)\n",
        "plt.title(\"2-class Precision-Recall curve\")\n",
        "plt.show()"
      ],
      "metadata": {
        "id": "lE-E3DxtZ3Jt",
        "colab": {
          "base_uri": "https://localhost:8080/",
          "height": 295
        },
        "outputId": "aabd0df0-40c8-4108-af72-2f158d1c7910"
      },
      "execution_count": null,
      "outputs": [
        {
          "output_type": "display_data",
          "data": {
            "image/png": "[encoded data removed]",
            "text/plain": [
              "<Figure size 432x288 with 1 Axes>"
            ]
          },
          "metadata": {
            "needs_background": "light"
          }
        }
      ]
    }
  ],
  "metadata": {
    "colab": {
      "provenance": []
    },
    "kernelspec": {
      "display_name": "Python 3",
      "language": "python",
      "name": "python3"
    },
    "language_info": {
      "codemirror_mode": {
        "name": "ipython",
        "version": 3
      },
      "file_extension": ".py",
      "mimetype": "text/x-python",
      "name": "python",
      "nbconvert_exporter": "python",
      "pygments_lexer": "ipython3",
      "version": "3.8.5"
    }
  },
  "nbformat": 4,
  "nbformat_minor": 0
}